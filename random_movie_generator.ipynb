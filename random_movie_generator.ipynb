{
 "cells": [
  {
   "cell_type": "code",
   "execution_count": 72,
   "metadata": {},
   "outputs": [],
   "source": [
    "import requests\n",
    "from bs4 import BeautifulSoup\n",
    "import random"
   ]
  },
  {
   "cell_type": "code",
   "execution_count": 101,
   "metadata": {},
   "outputs": [
    {
     "name": "stdout",
     "output_type": "stream",
     "text": [
      "Movie or TV show? tv\n",
      "Enter genre: rom-com\n",
      "Modern Love\n",
      "Want another? y\n",
      "The Nanny\n",
      "Want another? y\n",
      "Misfits\n",
      "Want another? n\n",
      "Enjoy the show :)\n"
     ]
    }
   ],
   "source": [
    "USER_AGENT = \"Mozilla/5.0 (Macintosh; Intel Mac OS X 10.14; rv:65.0) Gecko/20100101 Firefox/65.0\"\n",
    "\n",
    "headers = {\"user-agent\" : USER_AGENT}\n",
    "correct = False\n",
    "\n",
    "# inputs\n",
    "while (correct == False):\n",
    "    watchType = ''\n",
    "    watchInput = input('Movie or TV show? ')\n",
    "    genre = input('Enter genre: ')\n",
    "    if (watchInput == 'movie'):\n",
    "        watchType = 'feature'\n",
    "        correct = True\n",
    "    elif (watchInput == 'show' or watchInput == 'tv show' or watchInput == 'tv'):\n",
    "        watchType = 'tv_series,mini_series'\n",
    "        watchInput = 'show'\n",
    "        correct = True\n",
    "    else:\n",
    "        print('Sorry, please enter movie or tv show')        \n",
    "if (genre == 'rom-com' or genre == 'rom com'):\n",
    "    genre = 'romance,comedy'\n",
    "elif (genre == 'action-comedy' or genre == 'action comedy'):\n",
    "    genre = 'action,comedy'\n",
    "repeat = True\n",
    "while repeat == True:\n",
    "    # movie number in top ratings to start at\n",
    "    start = random.random()*300\n",
    "    start = round(start)\n",
    "    numVotes=10000\n",
    "    success = False\n",
    "    while success == False:\n",
    "        # search URL\n",
    "        url = \"https://www.imdb.com/search/title/?genres={0}&sort=user_rating,desc&title_type={1}&num_votes={2},&start={3}\".format(genre, watchType, numVotes, start) \n",
    "        # send HTTP request\n",
    "        req = requests.get(url, headers=headers, timeout=5)\n",
    "        # pull HTTP data\n",
    "        sor = BeautifulSoup(req.text, \"html.parser\")\n",
    "        hits = []\n",
    "        for a in sor.find_all('h3', class_='lister-item-header'):\n",
    "                hits.append(a.a.string)\n",
    "        if len(hits) == 0:\n",
    "            numVotes = numVotes/2\n",
    "        else:\n",
    "            success = True\n",
    "    choice = random.random()*(len(hits)-1)\n",
    "    choice = round(choice)\n",
    "    print(hits[choice])\n",
    "    indecisive = input('Want another? ')\n",
    "    if (indecisive == 'yes' or indecisive == 'y'):\n",
    "        repeat = True\n",
    "    else:\n",
    "        repeat = False\n",
    "        print('Enjoy the {} :)'.format(watchInput))"
   ]
  },
  {
   "cell_type": "code",
   "execution_count": null,
   "metadata": {},
   "outputs": [],
   "source": []
  }
 ],
 "metadata": {
  "kernelspec": {
   "display_name": "Python 3",
   "language": "python",
   "name": "python3"
  },
  "language_info": {
   "codemirror_mode": {
    "name": "ipython",
    "version": 3
   },
   "file_extension": ".py",
   "mimetype": "text/x-python",
   "name": "python",
   "nbconvert_exporter": "python",
   "pygments_lexer": "ipython3",
   "version": "3.8.5"
  }
 },
 "nbformat": 4,
 "nbformat_minor": 4
}
